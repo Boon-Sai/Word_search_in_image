{
 "cells": [
  {
   "cell_type": "code",
   "execution_count": null,
   "id": "14362025",
   "metadata": {},
   "outputs": [
    {
     "name": "stderr",
     "output_type": "stream",
     "text": [
      "/tmp/ipykernel_397578/1873598318.py:5: DeprecationWarning: The parameter `use_angle_cls` has been deprecated and will be removed in the future. Please use `use_textline_orientation` instead.\n",
      "  ocr = PaddleOCR(use_angle_cls=True, lang='en') # need to run only once to download and load model into memory\n",
      "/home/litzchill/Boon_sai/pdf_search/venv/lib/python3.10/site-packages/paddle/utils/cpp_extension/extension_utils.py:715: UserWarning: No ccache found. Please be aware that recompiling all source files may be required. You can download and install ccache from: https://github.com/ccache/ccache/blob/master/doc/INSTALL.md\n",
      "  warnings.warn(warning_message)\n",
      "\u001b[32mCreating model: ('PP-LCNet_x1_0_doc_ori', None)\u001b[0m\n",
      "\u001b[32mUsing official model (PP-LCNet_x1_0_doc_ori), the model files will be automatically downloaded and saved in /home/litzchill/.paddlex/official_models.\u001b[0m\n",
      "Fetching 6 files: 100%|██████████| 6/6 [00:00<00:00, 3533.53it/s]\n",
      "\u001b[32mCreating model: ('UVDoc', None)\u001b[0m\n",
      "\u001b[32mUsing official model (UVDoc), the model files will be automatically downloaded and saved in /home/litzchill/.paddlex/official_models.\u001b[0m\n",
      "Fetching 6 files: 100%|██████████| 6/6 [00:00<00:00, 1865.24it/s]\n",
      "\u001b[32mCreating model: ('PP-LCNet_x1_0_textline_ori', None)\u001b[0m\n",
      "\u001b[32mUsing official model (PP-LCNet_x1_0_textline_ori), the model files will be automatically downloaded and saved in /home/litzchill/.paddlex/official_models.\u001b[0m\n",
      "Fetching 6 files: 100%|██████████| 6/6 [00:00<00:00, 3728.82it/s]\n",
      "\u001b[32mCreating model: ('PP-OCRv5_server_det', None)\u001b[0m\n",
      "\u001b[32mUsing official model (PP-OCRv5_server_det), the model files will be automatically downloaded and saved in /home/litzchill/.paddlex/official_models.\u001b[0m\n",
      "Fetching 6 files: 100%|██████████| 6/6 [00:00<00:00, 1846.63it/s]\n",
      "\u001b[32mCreating model: ('PP-OCRv5_server_rec', None)\u001b[0m\n",
      "\u001b[32mUsing official model (PP-OCRv5_server_rec), the model files will be automatically downloaded and saved in /home/litzchill/.paddlex/official_models.\u001b[0m\n",
      "Fetching 6 files: 100%|██████████| 6/6 [00:00<00:00, 1997.45it/s]\n"
     ]
    }
   ],
   "source": [
    "from paddleocr import PaddleOCR,draw_ocr\n",
    "# Paddleocr supports Chinese, English, French, German, Korean and Japanese.\n",
    "# You can set the parameter `lang` as `ch`, `en`, `fr`, `german`, `korean`, `japan`\n",
    "# to switch the language model in order.\n",
    "ocr = PaddleOCR(use_angle_cls=True, lang='en') # need to run only once to download and load model into memory\n",
    "\n"
   ]
  },
  {
   "cell_type": "code",
   "execution_count": null,
   "id": "15665758",
   "metadata": {},
   "outputs": [],
   "source": [
    "from google.colab.patches import cv2_imshow\n",
    "import cv2"
   ]
  },
  {
   "cell_type": "code",
   "execution_count": 3,
   "id": "b4d2d848",
   "metadata": {},
   "outputs": [
    {
     "ename": "NameError",
     "evalue": "name 'cv2_imshow' is not defined",
     "output_type": "error",
     "traceback": [
      "\u001b[0;31m---------------------------------------------------------------------------\u001b[0m",
      "\u001b[0;31mNameError\u001b[0m                                 Traceback (most recent call last)",
      "Cell \u001b[0;32mIn[3], line 4\u001b[0m\n\u001b[1;32m      1\u001b[0m img_path \u001b[38;5;241m=\u001b[39m \u001b[38;5;124m'\u001b[39m\u001b[38;5;124mimage-2.png\u001b[39m\u001b[38;5;124m'\u001b[39m  \u001b[38;5;66;03m# Replace with your actual image path\u001b[39;00m\n\u001b[1;32m      3\u001b[0m img \u001b[38;5;241m=\u001b[39m cv2\u001b[38;5;241m.\u001b[39mimread(img_path, cv2\u001b[38;5;241m.\u001b[39mIMREAD_UNCHANGED)\n\u001b[0;32m----> 4\u001b[0m \u001b[43mcv2_imshow\u001b[49m(img)\n",
      "\u001b[0;31mNameError\u001b[0m: name 'cv2_imshow' is not defined"
     ]
    }
   ],
   "source": [
    "\n",
    "img_path = 'image-2.png'  # Replace with your actual image path\n",
    "\n",
    "img = cv2.imread(img_path, cv2.IMREAD_UNCHANGED)\n",
    "cv2_imshow(img)"
   ]
  },
  {
   "cell_type": "code",
   "execution_count": null,
   "id": "abf375d3",
   "metadata": {},
   "outputs": [],
   "source": [
    "%timeit result = ocr.ocr(img_path, cls=True)\n",
    "for line in result:\n",
    "    print(line)"
   ]
  },
  {
   "cell_type": "code",
   "execution_count": null,
   "id": "504e3740",
   "metadata": {},
   "outputs": [],
   "source": [
    "# draw result\n",
    "from PIL import Image, ImageDraw, ImageFont\n",
    "image = Image.open(img_path).convert('RGB')\n",
    "\n",
    "boxes = [line[0] for line in result]\n",
    "txts = [line[1][0] for line in result]\n",
    "scores = [line[1][1] for line in result]\n",
    "font = ImageFont.load_default()\n",
    "im_show = draw_ocr(image, boxes, txts, scores,font_path='/usr/share/fonts/truetype/humor-sans/Humor-Sans.ttf' )\n",
    "im_show = Image.fromarray(im_show)\n",
    "im_show.save('result.jpg')\n"
   ]
  },
  {
   "cell_type": "code",
   "execution_count": null,
   "id": "270f62b6",
   "metadata": {},
   "outputs": [],
   "source": [
    "img = cv2.imread('/content/result.jpg', cv2.IMREAD_UNCHANGED)\n",
    "cv2_imshow(img)"
   ]
  },
  {
   "cell_type": "code",
   "execution_count": null,
   "id": "b7977af7",
   "metadata": {},
   "outputs": [],
   "source": [
    "img_path1='/content/HWLetter.png'\n",
    "img = cv2.imread(img_path1, cv2.IMREAD_UNCHANGED)\n",
    "cv2_imshow(img)"
   ]
  },
  {
   "cell_type": "code",
   "execution_count": null,
   "id": "de56e9b2",
   "metadata": {},
   "outputs": [],
   "source": [
    "result1 = ocr.ocr(img_path1, cls=True)\n",
    "for line in result1:\n",
    "    print(line)"
   ]
  },
  {
   "cell_type": "code",
   "execution_count": null,
   "id": "eee2a19f",
   "metadata": {},
   "outputs": [],
   "source": [
    "image = Image.open(img_path1).convert('RGB')\n",
    "\n",
    "boxes = [line[0] for line in result1]\n",
    "txts = [line[1][0] for line in result1]\n",
    "scores = [line[1][1] for line in result1]\n",
    "font = ImageFont.load_default()\n",
    "im_show = draw_ocr(image, boxes, txts, scores,font_path='/usr/share/fonts/truetype/humor-sans/Humor-Sans.ttf' )\n",
    "im_show = Image.fromarray(im_show)\n",
    "im_show.save('result1.jpg')"
   ]
  },
  {
   "cell_type": "code",
   "execution_count": null,
   "id": "fb06ce8c",
   "metadata": {},
   "outputs": [],
   "source": [
    "img = cv2.imread('/content/result1.jpg', cv2.IMREAD_UNCHANGED)\n",
    "cv2_imshow(img)"
   ]
  },
  {
   "cell_type": "code",
   "execution_count": null,
   "id": "d26358da",
   "metadata": {},
   "outputs": [],
   "source": [
    "img_path2='/content/Invoice3.png'\n",
    "img = cv2.imread(img_path2, cv2.IMREAD_UNCHANGED)\n",
    "cv2_imshow(img)"
   ]
  },
  {
   "cell_type": "code",
   "execution_count": null,
   "id": "b0438c28",
   "metadata": {},
   "outputs": [],
   "source": [
    "image = Image.open(img_path2).convert('RGB')\n",
    "\n",
    "boxes = [line[0] for line in result]\n",
    "txts = [line[1][0] for line in result]\n",
    "scores = [line[1][1] for line in result]\n",
    "font = ImageFont.load_default()\n",
    "im_show = draw_ocr(image, boxes, txts, scores,font_path='/usr/share/fonts/truetype/humor-sans/Humor-Sans.ttf' )\n",
    "im_show = Image.fromarray(im_show)\n",
    "im_show.save('result2.jpg')"
   ]
  },
  {
   "cell_type": "code",
   "execution_count": null,
   "id": "f39e1e72",
   "metadata": {},
   "outputs": [],
   "source": [
    "img = cv2.imread('/content/result2.jpg', cv2.IMREAD_UNCHANGED)\n",
    "cv2_imshow(img)"
   ]
  },
  {
   "cell_type": "code",
   "execution_count": null,
   "id": "724aac51",
   "metadata": {},
   "outputs": [],
   "source": []
  },
  {
   "cell_type": "code",
   "execution_count": null,
   "id": "685c35bc",
   "metadata": {},
   "outputs": [],
   "source": []
  }
 ],
 "metadata": {
  "kernelspec": {
   "display_name": "Python 3",
   "language": "python",
   "name": "python3"
  },
  "language_info": {
   "codemirror_mode": {
    "name": "ipython",
    "version": 3
   },
   "file_extension": ".py",
   "mimetype": "text/x-python",
   "name": "python",
   "nbconvert_exporter": "python",
   "pygments_lexer": "ipython3",
   "version": "3.10.0"
  }
 },
 "nbformat": 4,
 "nbformat_minor": 5
}
